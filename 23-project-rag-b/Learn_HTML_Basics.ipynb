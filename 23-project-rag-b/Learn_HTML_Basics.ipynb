{
 "cells": [
  {
   "cell_type": "markdown",
   "metadata": {},
   "source": [
    "# 零基础 HTML 学习教程\n",
    "\n",
    "本教程适合零基础学习者，介绍 HTML 的基础知识和主要标签，包含示例代码，帮助快速上手网页开发。\n",
    "\n",
    "## 什么是 HTML？\n",
    "HTML（超文本标记语言）是创建网页的标准语言，用于定义网页的结构。HTML 使用“标签”来标记内容，如标题、段落、图片等。\n",
    "\n",
    "## 学习目标\n",
    "- 掌握 HTML 基本结构\n",
    "- 学会常用标签\n",
    "- 能够编写简单的网页\n",
    "\n",
    "## 前置要求\n",
    "- 无需编程经验\n",
    "- 准备一个文本编辑器（如 VS Code 或 Notepad）\n",
    "- 使用浏览器查看 HTML 文件效果"
   ]
  },
  {
   "cell_type": "markdown",
   "metadata": {},
   "source": [
    "## 1. HTML 基本结构\n",
    "\n",
    "每个 HTML 文件都有一个固定的基本结构。以下是一个简单的 HTML 文件示例："
   ]
  },
  {
   "cell_type": "code",
   "execution_count": null,
   "metadata": {
    "vscode": {
     "languageId": "html"
    }
   },
   "outputs": [],
   "source": [
    "<!DOCTYPE html>\n",
    "<html lang=\"zh-CN\">\n",
    "<head>\n",
    "    <meta charset=\"UTF-8\">\n",
    "    <title>我的第一个网页</title>\n",
    "</head>\n",
    "<body>\n",
    "    <h1>欢迎学习 HTML</h1>\n",
    "    <p>这是一个简单的网页。</p>\n",
    "</body>\n",
    "</html>"
   ]
  },
  {
   "cell_type": "markdown",
   "metadata": {},
   "source": [
    "**代码说明：**\n",
    "- `<!DOCTYPE html>`：声明这是 HTML5 文档。\n",
    "- `<html lang=\"zh-CN\">`：定义文档语言为中文。\n",
    "- `<head>`：包含元数据，如字符编码 `<meta charset=\"UTF-8\">` 和网页标题 `<title>`。\n",
    "- `<body>`：包含网页可见内容，如标题 `<h1>` 和段落 `<p>`。"
   ]
  },
  {
   "cell_type": "markdown",
   "metadata": {},
   "source": [
    "## 2. 常用 HTML 标签\n",
    "\n",
    "以下是常用的 HTML 标签及其示例代码。"
   ]
  },
  {
   "cell_type": "markdown",
   "metadata": {},
   "source": [
    "### 2.1 标题标签 `<h1>` 到 `<h6>`\n",
    "用于定义不同级别的标题，`<h1>` 是最大标题，`<h6>` 最小。"
   ]
  },
  {
   "cell_type": "code",
   "execution_count": null,
   "metadata": {
    "vscode": {
     "languageId": "html"
    }
   },
   "outputs": [],
   "source": [
    "<h1>一级标题</h1>\n",
    "<h2>二级标题</h2>\n",
    "<h3>三级标题</h3>"
   ]
  },
  {
   "cell_type": "markdown",
   "metadata": {},
   "source": [
    "### 2.2 段落标签 `<p>`\n",
    "用于定义段落。"
   ]
  },
  {
   "cell_type": "code",
   "execution_count": null,
   "metadata": {
    "vscode": {
     "languageId": "html"
    }
   },
   "outputs": [],
   "source": [
    "<p>这是一个段落，包含一些文本内容。</p>\n",
    "<p>这是另一个段落。</p>"
   ]
  },
  {
   "cell_type": "markdown",
   "metadata": {},
   "source": [
    "### 2.3 链接标签 `<a>`\n",
    "用于创建超链接，`href` 属性指定目标地址。"
   ]
  },
  {
   "cell_type": "code",
   "execution_count": null,
   "metadata": {
    "vscode": {
     "languageId": "html"
    }
   },
   "outputs": [],
   "source": [
    "<a href=\"https://www.example.com\">点击访问示例网站</a>"
   ]
  },
  {
   "cell_type": "markdown",
   "metadata": {},
   "source": [
    "### 2.4 图片标签 `<img>`\n",
    "用于插入图片，`src` 指定图片路径，`alt` 提供图片描述。"
   ]
  },
  {
   "cell_type": "code",
   "execution_count": null,
   "metadata": {
    "vscode": {
     "languageId": "html"
    }
   },
   "outputs": [],
   "source": [
    "<img src=\"https://via.placeholder.com/150\" alt=\"示例图片\">"
   ]
  },
  {
   "cell_type": "markdown",
   "metadata": {},
   "source": [
    "### 2.5 列表标签\n",
    "HTML 支持有序列表 `<ol>` 和无序列表 `<ul>`，列表项使用 `<li>`。"
   ]
  },
  {
   "cell_type": "code",
   "execution_count": null,
   "metadata": {
    "vscode": {
     "languageId": "html"
    }
   },
   "outputs": [],
   "source": [
    "<h3>无序列表</h3>\n",
    "<ul>\n",
    "    <li>苹果</li>\n",
    "    <li>香蕉</li>\n",
    "    <li>橙子</li>\n",
    "</ul>\n",
    "\n",
    "<h3>有序列表</h3>\n",
    "<ol>\n",
    "    <li>第一步</li>\n",
    "    <li>第二步</li>\n",
    "    <li>第三步</li>\n",
    "</ol>"
   ]
  },
  {
   "cell_type": "markdown",
   "metadata": {},
   "source": [
    "### 2.6 表格标签 `<table>`\n",
    "用于创建表格，包含 `<tr>`（行）、`<th>`（表头）、`<td>`（单元格）。"
   ]
  },
  {
   "cell_type": "code",
   "execution_count": null,
   "metadata": {
    "vscode": {
     "languageId": "html"
    }
   },
   "outputs": [],
   "source": [
    "<table border=\"1\">\n",
    "    <tr>\n",
    "        <th>姓名</th>\n",
    "        <th>年龄</th>\n",
    "    </tr>\n",
    "    <tr>\n",
    "        <td>张三</td>\n",
    "        <td>20</td>\n",
    "    </tr>\n",
    "    <tr>\n",
    "        <td>李四</td>\n",
    "        <td>22</td>\n",
    "    </tr>\n",
    "</table>"
   ]
  },
  {
   "cell_type": "markdown",
   "metadata": {},
   "source": [
    "## 3. 综合示例：一个完整的网页\n",
    "\n",
    "以下是一个综合运用上述标签的完整网页示例："
   ]
  },
  {
   "cell_type": "code",
   "execution_count": null,
   "metadata": {
    "vscode": {
     "languageId": "html"
    }
   },
   "outputs": [],
   "source": [
    "<!DOCTYPE html>\n",
    "<html lang=\"zh-CN\">\n",
    "<head>\n",
    "    <meta charset=\"UTF-8\">\n",
    "    <title>我的个人主页</title>\n",
    "</head>\n",
    "<body>\n",
    "    <h1>欢迎访问我的主页</h1>\n",
    "    <p>这是一个简单的个人介绍页面，展示 HTML 的基本用法。</p>\n",
    "\n",
    "    <h2>关于我</h2>\n",
    "    <img src=\"https://via.placeholder.com/150\" alt=\"我的头像\">\n",
    "    <p>我是一个热爱学习的人，目前在学习 HTML 网页开发。</p>\n",
    "\n",
    "    <h2>我的兴趣</h2>\n",
    "    <ul>\n",
    "        <li>编程</li>\n",
    "        <li>阅读</li>\n",
    "        <li>旅行</li>\n",
    "    </ul>\n",
    "\n",
    "    <h2>联系方式</h2>\n",
    "    <p>访问我的网站：<a href=\"https://www.example.com\">示例网站</a></p>\n",
    "\n",
    "    <h2>我的课程表</h2>\n",
    "    <table border=\"1\">\n",
    "        <tr>\n",
    "            <th>时间</th>\n",
    "            <th>课程</th>\n",
    "        </tr>\n",
    "        <tr>\n",
    "            <td>周一</td>\n",
    "            <td>HTML 基础</td>\n",
    "        </tr>\n",
    "        <tr>\n",
    "            <td>周二</td>\n",
    "            <td>CSS 样式</td>\n",
    "        </tr>\n",
    "    </table>\n",
    "</body>\n",
    "</html>"
   ]
  },
  {
   "cell_type": "markdown",
   "metadata": {},
   "source": [
    "## 4. 如何运行 HTML 文件\n",
    "\n",
    "1. 将代码保存为以 `.html` 结尾的文件（如 `index.html`）。\n",
    "2. 使用文本编辑器（如 VS Code）编辑代码。\n",
    "3. 在浏览器中打开文件（右键选择“用浏览器打开”或直接拖入浏览器）。\n",
    "4. 修改代码后，刷新浏览器查看效果。\n",
    "\n",
    "## 5. 下一步学习建议\n",
    "\n",
    "- 学习 CSS，为网页添加样式（如颜色、布局）。\n",
    "- 学习 JavaScript，为网页添加交互功能。\n",
    "- 参考资源：\n",
    "  - [W3Schools HTML 教程](https://www.w3schools.com/html/)\n",
    "  - [MDN Web 文档](https://developer.mozilla.org/zh-CN/docs/Web/HTML)\n",
    "\n",
    "通过不断练习，你将能创建更复杂和美观的网页！"
   ]
  }
 ],
 "metadata": {
  "kernelspec": {
   "display_name": "Python 3",
   "language": "python",
   "name": "python3"
  },
  "language_info": {
   "codemirror_mode": {
    "name": "ipython",
    "version": 3
   },
   "file_extension": ".py",
   "mimetype": "text/x-python",
   "name": "python",
   "nbconvert_exporter": "python",
   "pygments_lexer": "ipython3",
   "version": "3.8.5"
  }
 },
 "nbformat": 4,
 "nbformat_minor": 4
}